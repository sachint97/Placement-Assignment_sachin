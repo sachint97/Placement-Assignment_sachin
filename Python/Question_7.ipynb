{
  "nbformat": 4,
  "nbformat_minor": 0,
  "metadata": {
    "colab": {
      "provenance": []
    },
    "kernelspec": {
      "name": "python3",
      "display_name": "Python 3"
    },
    "language_info": {
      "name": "python"
    }
  },
  "cells": [
    {
      "cell_type": "code",
      "execution_count": null,
      "metadata": {
        "id": "HmKTNbCOXtzv"
      },
      "outputs": [],
      "source": [
        "import numpy as np\n",
        "import pandas as pd\n",
        "import matplotlib.pyplot as plt"
      ]
    },
    {
      "cell_type": "code",
      "source": [
        "df = pd.read_csv('data.csv')\n",
        "print(df.dtypes)\n",
        "df"
      ],
      "metadata": {
        "colab": {
          "base_uri": "https://localhost:8080/",
          "height": 1000
        },
        "id": "jYjzXr4qX585",
        "outputId": "b229a9aa-f691-4752-c3d7-c2e20159a469"
      },
      "execution_count": null,
      "outputs": [
        {
          "output_type": "stream",
          "name": "stdout",
          "text": [
            "name                            object\n",
            "id                               int64\n",
            "nametype                        object\n",
            "recclass                        object\n",
            "mass                           float64\n",
            "fall                            object\n",
            "year                            object\n",
            "reclat                         float64\n",
            "reclong                        float64\n",
            "geolocation                     object\n",
            ":@computed_region_cbhk_fwbd    float64\n",
            ":@computed_region_nnqa_25f4    float64\n",
            "dtype: object\n"
          ]
        },
        {
          "output_type": "execute_result",
          "data": {
            "text/plain": [
              "          name     id nametype               recclass      mass  fall  \\\n",
              "0       Aachen      1    Valid                     L5      21.0  Fell   \n",
              "1       Aarhus      2    Valid                     H6     720.0  Fell   \n",
              "2         Abee      6    Valid                    EH4  107000.0  Fell   \n",
              "3     Acapulco     10    Valid            Acapulcoite    1914.0  Fell   \n",
              "4      Achiras    370    Valid                     L6     780.0  Fell   \n",
              "..         ...    ...      ...                    ...       ...   ...   \n",
              "995   Tirupati  24009    Valid                     H6     230.0  Fell   \n",
              "996    Tissint  54823    Valid  Martian (shergottite)    7000.0  Fell   \n",
              "997      Tjabe  24011    Valid                     H6   20000.0  Fell   \n",
              "998   Tjerebon  24012    Valid                     L5   16500.0  Fell   \n",
              "999  Tomakovka  24019    Valid                    LL6     600.0  Fell   \n",
              "\n",
              "                        year    reclat    reclong  \\\n",
              "0    1880-01-01T00:00:00.000  50.77500    6.08333   \n",
              "1    1951-01-01T00:00:00.000  56.18333   10.23333   \n",
              "2    1952-01-01T00:00:00.000  54.21667 -113.00000   \n",
              "3    1976-01-01T00:00:00.000  16.88333  -99.90000   \n",
              "4    1902-01-01T00:00:00.000 -33.16667  -64.95000   \n",
              "..                       ...       ...        ...   \n",
              "995  1934-01-01T00:00:00.000  13.63333   79.41667   \n",
              "996  2011-01-01T00:00:00.000  29.48195   -7.61123   \n",
              "997  1869-01-01T00:00:00.000  -7.08333  111.53333   \n",
              "998  1922-01-01T00:00:00.000  -6.66667  106.58333   \n",
              "999  1905-01-01T00:00:00.000  47.85000   34.76667   \n",
              "\n",
              "                                           geolocation  \\\n",
              "0    {'type': 'Point', 'coordinates': [6.08333, 50....   \n",
              "1    {'type': 'Point', 'coordinates': [10.23333, 56...   \n",
              "2    {'type': 'Point', 'coordinates': [-113, 54.216...   \n",
              "3    {'type': 'Point', 'coordinates': [-99.9, 16.88...   \n",
              "4    {'type': 'Point', 'coordinates': [-64.95, -33....   \n",
              "..                                                 ...   \n",
              "995  {'type': 'Point', 'coordinates': [79.41667, 13...   \n",
              "996  {'type': 'Point', 'coordinates': [-7.61123, 29...   \n",
              "997  {'type': 'Point', 'coordinates': [111.53333, -...   \n",
              "998  {'type': 'Point', 'coordinates': [106.58333, -...   \n",
              "999  {'type': 'Point', 'coordinates': [34.76667, 47...   \n",
              "\n",
              "     :@computed_region_cbhk_fwbd  :@computed_region_nnqa_25f4  \n",
              "0                            NaN                          NaN  \n",
              "1                            NaN                          NaN  \n",
              "2                            NaN                          NaN  \n",
              "3                            NaN                          NaN  \n",
              "4                            NaN                          NaN  \n",
              "..                           ...                          ...  \n",
              "995                          NaN                          NaN  \n",
              "996                          NaN                          NaN  \n",
              "997                          NaN                          NaN  \n",
              "998                          NaN                          NaN  \n",
              "999                          NaN                          NaN  \n",
              "\n",
              "[1000 rows x 12 columns]"
            ],
            "text/html": [
              "\n",
              "  <div id=\"df-135d3bc1-06bc-4b9b-8136-9ad4d493c0bf\">\n",
              "    <div class=\"colab-df-container\">\n",
              "      <div>\n",
              "<style scoped>\n",
              "    .dataframe tbody tr th:only-of-type {\n",
              "        vertical-align: middle;\n",
              "    }\n",
              "\n",
              "    .dataframe tbody tr th {\n",
              "        vertical-align: top;\n",
              "    }\n",
              "\n",
              "    .dataframe thead th {\n",
              "        text-align: right;\n",
              "    }\n",
              "</style>\n",
              "<table border=\"1\" class=\"dataframe\">\n",
              "  <thead>\n",
              "    <tr style=\"text-align: right;\">\n",
              "      <th></th>\n",
              "      <th>name</th>\n",
              "      <th>id</th>\n",
              "      <th>nametype</th>\n",
              "      <th>recclass</th>\n",
              "      <th>mass</th>\n",
              "      <th>fall</th>\n",
              "      <th>year</th>\n",
              "      <th>reclat</th>\n",
              "      <th>reclong</th>\n",
              "      <th>geolocation</th>\n",
              "      <th>:@computed_region_cbhk_fwbd</th>\n",
              "      <th>:@computed_region_nnqa_25f4</th>\n",
              "    </tr>\n",
              "  </thead>\n",
              "  <tbody>\n",
              "    <tr>\n",
              "      <th>0</th>\n",
              "      <td>Aachen</td>\n",
              "      <td>1</td>\n",
              "      <td>Valid</td>\n",
              "      <td>L5</td>\n",
              "      <td>21.0</td>\n",
              "      <td>Fell</td>\n",
              "      <td>1880-01-01T00:00:00.000</td>\n",
              "      <td>50.77500</td>\n",
              "      <td>6.08333</td>\n",
              "      <td>{'type': 'Point', 'coordinates': [6.08333, 50....</td>\n",
              "      <td>NaN</td>\n",
              "      <td>NaN</td>\n",
              "    </tr>\n",
              "    <tr>\n",
              "      <th>1</th>\n",
              "      <td>Aarhus</td>\n",
              "      <td>2</td>\n",
              "      <td>Valid</td>\n",
              "      <td>H6</td>\n",
              "      <td>720.0</td>\n",
              "      <td>Fell</td>\n",
              "      <td>1951-01-01T00:00:00.000</td>\n",
              "      <td>56.18333</td>\n",
              "      <td>10.23333</td>\n",
              "      <td>{'type': 'Point', 'coordinates': [10.23333, 56...</td>\n",
              "      <td>NaN</td>\n",
              "      <td>NaN</td>\n",
              "    </tr>\n",
              "    <tr>\n",
              "      <th>2</th>\n",
              "      <td>Abee</td>\n",
              "      <td>6</td>\n",
              "      <td>Valid</td>\n",
              "      <td>EH4</td>\n",
              "      <td>107000.0</td>\n",
              "      <td>Fell</td>\n",
              "      <td>1952-01-01T00:00:00.000</td>\n",
              "      <td>54.21667</td>\n",
              "      <td>-113.00000</td>\n",
              "      <td>{'type': 'Point', 'coordinates': [-113, 54.216...</td>\n",
              "      <td>NaN</td>\n",
              "      <td>NaN</td>\n",
              "    </tr>\n",
              "    <tr>\n",
              "      <th>3</th>\n",
              "      <td>Acapulco</td>\n",
              "      <td>10</td>\n",
              "      <td>Valid</td>\n",
              "      <td>Acapulcoite</td>\n",
              "      <td>1914.0</td>\n",
              "      <td>Fell</td>\n",
              "      <td>1976-01-01T00:00:00.000</td>\n",
              "      <td>16.88333</td>\n",
              "      <td>-99.90000</td>\n",
              "      <td>{'type': 'Point', 'coordinates': [-99.9, 16.88...</td>\n",
              "      <td>NaN</td>\n",
              "      <td>NaN</td>\n",
              "    </tr>\n",
              "    <tr>\n",
              "      <th>4</th>\n",
              "      <td>Achiras</td>\n",
              "      <td>370</td>\n",
              "      <td>Valid</td>\n",
              "      <td>L6</td>\n",
              "      <td>780.0</td>\n",
              "      <td>Fell</td>\n",
              "      <td>1902-01-01T00:00:00.000</td>\n",
              "      <td>-33.16667</td>\n",
              "      <td>-64.95000</td>\n",
              "      <td>{'type': 'Point', 'coordinates': [-64.95, -33....</td>\n",
              "      <td>NaN</td>\n",
              "      <td>NaN</td>\n",
              "    </tr>\n",
              "    <tr>\n",
              "      <th>...</th>\n",
              "      <td>...</td>\n",
              "      <td>...</td>\n",
              "      <td>...</td>\n",
              "      <td>...</td>\n",
              "      <td>...</td>\n",
              "      <td>...</td>\n",
              "      <td>...</td>\n",
              "      <td>...</td>\n",
              "      <td>...</td>\n",
              "      <td>...</td>\n",
              "      <td>...</td>\n",
              "      <td>...</td>\n",
              "    </tr>\n",
              "    <tr>\n",
              "      <th>995</th>\n",
              "      <td>Tirupati</td>\n",
              "      <td>24009</td>\n",
              "      <td>Valid</td>\n",
              "      <td>H6</td>\n",
              "      <td>230.0</td>\n",
              "      <td>Fell</td>\n",
              "      <td>1934-01-01T00:00:00.000</td>\n",
              "      <td>13.63333</td>\n",
              "      <td>79.41667</td>\n",
              "      <td>{'type': 'Point', 'coordinates': [79.41667, 13...</td>\n",
              "      <td>NaN</td>\n",
              "      <td>NaN</td>\n",
              "    </tr>\n",
              "    <tr>\n",
              "      <th>996</th>\n",
              "      <td>Tissint</td>\n",
              "      <td>54823</td>\n",
              "      <td>Valid</td>\n",
              "      <td>Martian (shergottite)</td>\n",
              "      <td>7000.0</td>\n",
              "      <td>Fell</td>\n",
              "      <td>2011-01-01T00:00:00.000</td>\n",
              "      <td>29.48195</td>\n",
              "      <td>-7.61123</td>\n",
              "      <td>{'type': 'Point', 'coordinates': [-7.61123, 29...</td>\n",
              "      <td>NaN</td>\n",
              "      <td>NaN</td>\n",
              "    </tr>\n",
              "    <tr>\n",
              "      <th>997</th>\n",
              "      <td>Tjabe</td>\n",
              "      <td>24011</td>\n",
              "      <td>Valid</td>\n",
              "      <td>H6</td>\n",
              "      <td>20000.0</td>\n",
              "      <td>Fell</td>\n",
              "      <td>1869-01-01T00:00:00.000</td>\n",
              "      <td>-7.08333</td>\n",
              "      <td>111.53333</td>\n",
              "      <td>{'type': 'Point', 'coordinates': [111.53333, -...</td>\n",
              "      <td>NaN</td>\n",
              "      <td>NaN</td>\n",
              "    </tr>\n",
              "    <tr>\n",
              "      <th>998</th>\n",
              "      <td>Tjerebon</td>\n",
              "      <td>24012</td>\n",
              "      <td>Valid</td>\n",
              "      <td>L5</td>\n",
              "      <td>16500.0</td>\n",
              "      <td>Fell</td>\n",
              "      <td>1922-01-01T00:00:00.000</td>\n",
              "      <td>-6.66667</td>\n",
              "      <td>106.58333</td>\n",
              "      <td>{'type': 'Point', 'coordinates': [106.58333, -...</td>\n",
              "      <td>NaN</td>\n",
              "      <td>NaN</td>\n",
              "    </tr>\n",
              "    <tr>\n",
              "      <th>999</th>\n",
              "      <td>Tomakovka</td>\n",
              "      <td>24019</td>\n",
              "      <td>Valid</td>\n",
              "      <td>LL6</td>\n",
              "      <td>600.0</td>\n",
              "      <td>Fell</td>\n",
              "      <td>1905-01-01T00:00:00.000</td>\n",
              "      <td>47.85000</td>\n",
              "      <td>34.76667</td>\n",
              "      <td>{'type': 'Point', 'coordinates': [34.76667, 47...</td>\n",
              "      <td>NaN</td>\n",
              "      <td>NaN</td>\n",
              "    </tr>\n",
              "  </tbody>\n",
              "</table>\n",
              "<p>1000 rows × 12 columns</p>\n",
              "</div>\n",
              "      <button class=\"colab-df-convert\" onclick=\"convertToInteractive('df-135d3bc1-06bc-4b9b-8136-9ad4d493c0bf')\"\n",
              "              title=\"Convert this dataframe to an interactive table.\"\n",
              "              style=\"display:none;\">\n",
              "        \n",
              "  <svg xmlns=\"http://www.w3.org/2000/svg\" height=\"24px\"viewBox=\"0 0 24 24\"\n",
              "       width=\"24px\">\n",
              "    <path d=\"M0 0h24v24H0V0z\" fill=\"none\"/>\n",
              "    <path d=\"M18.56 5.44l.94 2.06.94-2.06 2.06-.94-2.06-.94-.94-2.06-.94 2.06-2.06.94zm-11 1L8.5 8.5l.94-2.06 2.06-.94-2.06-.94L8.5 2.5l-.94 2.06-2.06.94zm10 10l.94 2.06.94-2.06 2.06-.94-2.06-.94-.94-2.06-.94 2.06-2.06.94z\"/><path d=\"M17.41 7.96l-1.37-1.37c-.4-.4-.92-.59-1.43-.59-.52 0-1.04.2-1.43.59L10.3 9.45l-7.72 7.72c-.78.78-.78 2.05 0 2.83L4 21.41c.39.39.9.59 1.41.59.51 0 1.02-.2 1.41-.59l7.78-7.78 2.81-2.81c.8-.78.8-2.07 0-2.86zM5.41 20L4 18.59l7.72-7.72 1.47 1.35L5.41 20z\"/>\n",
              "  </svg>\n",
              "      </button>\n",
              "      \n",
              "  <style>\n",
              "    .colab-df-container {\n",
              "      display:flex;\n",
              "      flex-wrap:wrap;\n",
              "      gap: 12px;\n",
              "    }\n",
              "\n",
              "    .colab-df-convert {\n",
              "      background-color: #E8F0FE;\n",
              "      border: none;\n",
              "      border-radius: 50%;\n",
              "      cursor: pointer;\n",
              "      display: none;\n",
              "      fill: #1967D2;\n",
              "      height: 32px;\n",
              "      padding: 0 0 0 0;\n",
              "      width: 32px;\n",
              "    }\n",
              "\n",
              "    .colab-df-convert:hover {\n",
              "      background-color: #E2EBFA;\n",
              "      box-shadow: 0px 1px 2px rgba(60, 64, 67, 0.3), 0px 1px 3px 1px rgba(60, 64, 67, 0.15);\n",
              "      fill: #174EA6;\n",
              "    }\n",
              "\n",
              "    [theme=dark] .colab-df-convert {\n",
              "      background-color: #3B4455;\n",
              "      fill: #D2E3FC;\n",
              "    }\n",
              "\n",
              "    [theme=dark] .colab-df-convert:hover {\n",
              "      background-color: #434B5C;\n",
              "      box-shadow: 0px 1px 3px 1px rgba(0, 0, 0, 0.15);\n",
              "      filter: drop-shadow(0px 1px 2px rgba(0, 0, 0, 0.3));\n",
              "      fill: #FFFFFF;\n",
              "    }\n",
              "  </style>\n",
              "\n",
              "      <script>\n",
              "        const buttonEl =\n",
              "          document.querySelector('#df-135d3bc1-06bc-4b9b-8136-9ad4d493c0bf button.colab-df-convert');\n",
              "        buttonEl.style.display =\n",
              "          google.colab.kernel.accessAllowed ? 'block' : 'none';\n",
              "\n",
              "        async function convertToInteractive(key) {\n",
              "          const element = document.querySelector('#df-135d3bc1-06bc-4b9b-8136-9ad4d493c0bf');\n",
              "          const dataTable =\n",
              "            await google.colab.kernel.invokeFunction('convertToInteractive',\n",
              "                                                     [key], {});\n",
              "          if (!dataTable) return;\n",
              "\n",
              "          const docLinkHtml = 'Like what you see? Visit the ' +\n",
              "            '<a target=\"_blank\" href=https://colab.research.google.com/notebooks/data_table.ipynb>data table notebook</a>'\n",
              "            + ' to learn more about interactive tables.';\n",
              "          element.innerHTML = '';\n",
              "          dataTable['output_type'] = 'display_data';\n",
              "          await google.colab.output.renderOutput(dataTable, element);\n",
              "          const docLink = document.createElement('div');\n",
              "          docLink.innerHTML = docLinkHtml;\n",
              "          element.appendChild(docLink);\n",
              "        }\n",
              "      </script>\n",
              "    </div>\n",
              "  </div>\n",
              "  "
            ]
          },
          "metadata": {},
          "execution_count": 121
        }
      ]
    },
    {
      "cell_type": "markdown",
      "source": [
        "### Converting date to year"
      ],
      "metadata": {
        "id": "MWd5E3ZrutK-"
      }
    },
    {
      "cell_type": "code",
      "source": [
        "df['year'] = pd.to_datetime(df['year'],errors='coerce').dt.year\n",
        "df.year"
      ],
      "metadata": {
        "colab": {
          "base_uri": "https://localhost:8080/"
        },
        "id": "AlS-XXZUunZw",
        "outputId": "fe758e99-1e52-4726-d7ed-bd3628c337e9"
      },
      "execution_count": null,
      "outputs": [
        {
          "output_type": "execute_result",
          "data": {
            "text/plain": [
              "0      1880.0\n",
              "1      1951.0\n",
              "2      1952.0\n",
              "3      1976.0\n",
              "4      1902.0\n",
              "        ...  \n",
              "995    1934.0\n",
              "996    2011.0\n",
              "997    1869.0\n",
              "998    1922.0\n",
              "999    1905.0\n",
              "Name: year, Length: 1000, dtype: float64"
            ]
          },
          "metadata": {},
          "execution_count": 122
        }
      ]
    },
    {
      "cell_type": "markdown",
      "source": [
        "\n",
        "\n",
        "\n",
        "# Get all the Earth meteorites that fell before the year 2000\n",
        "\n"
      ],
      "metadata": {
        "id": "k_eznAl5aHav"
      }
    },
    {
      "cell_type": "code",
      "source": [
        "meteorites_lt_2000=df[df.year < 2000]\n",
        "print(f\"Number of meteorites that fell before the year 2000 is {len(meteorites_lt_2000)}\")\n",
        "years_count=meteorites_lt_2000.groupby('year').size()\n",
        "years_count"
      ],
      "metadata": {
        "colab": {
          "base_uri": "https://localhost:8080/"
        },
        "id": "zlL9YloYYlK-",
        "outputId": "87eb8878-2605-493e-ca1a-0467b0c3a2de"
      },
      "execution_count": null,
      "outputs": [
        {
          "output_type": "stream",
          "name": "stdout",
          "text": [
            "Number of meteorites that fell before the year 2000 is 912\n"
          ]
        },
        {
          "output_type": "execute_result",
          "data": {
            "text/plain": [
              "year\n",
              "1688.0    1\n",
              "1704.0    1\n",
              "1715.0    1\n",
              "1723.0    1\n",
              "1740.0    1\n",
              "         ..\n",
              "1995.0    6\n",
              "1996.0    3\n",
              "1997.0    1\n",
              "1998.0    8\n",
              "1999.0    7\n",
              "Length: 217, dtype: int64"
            ]
          },
          "metadata": {},
          "execution_count": 123
        }
      ]
    },
    {
      "cell_type": "markdown",
      "source": [
        "# Get all the earth meteorites co-ordinates who fell before the year 1970"
      ],
      "metadata": {
        "id": "bpsOtlF5aUK-"
      }
    },
    {
      "cell_type": "code",
      "source": [
        "earth_meteorites_lt_1970 = df[df.year < 1970]\n",
        "print(f\"Number of meteorites that fell before the year 1970 is {len(earth_meteorites_lt_1970)}\")\n",
        "plt.scatter(earth_meteorites_lt_1970['reclong'], earth_meteorites_lt_1970['reclat'])\n",
        "plt.xlabel('Longitude')\n",
        "plt.ylabel('Latitude')\n",
        "plt.title('Earth Meteorites Before 1970')\n",
        "plt.show()"
      ],
      "metadata": {
        "colab": {
          "base_uri": "https://localhost:8080/",
          "height": 489
        },
        "id": "5pmEhhCVaZEG",
        "outputId": "9bc22c41-2a95-4bdc-c41f-889627099909"
      },
      "execution_count": null,
      "outputs": [
        {
          "output_type": "stream",
          "name": "stdout",
          "text": [
            "Number of meteorites that fell before the year 1970 is 763\n"
          ]
        },
        {
          "output_type": "display_data",
          "data": {
            "text/plain": [
              "<Figure size 640x480 with 1 Axes>"
            ],
            "image/png": "[encoded data removed]"
          },
          "metadata": {}
        }
      ]
    },
    {
      "cell_type": "markdown",
      "source": [
        "# Assuming that the mass of the earth meteorites was in kg, get all those whose mass was more than 10000kg"
      ],
      "metadata": {
        "id": "XsPeFqnVaZsG"
      }
    },
    {
      "cell_type": "code",
      "source": [
        "mass_gt_10000 = df[df.mass>10000]\n",
        "len(mass_gt_10000)\n"
      ],
      "metadata": {
        "colab": {
          "base_uri": "https://localhost:8080/"
        },
        "id": "hnJwNzyhaeo-",
        "outputId": "a64f96d2-ab57-4e07-cc25-9cb6538f0d06"
      },
      "execution_count": null,
      "outputs": [
        {
          "output_type": "execute_result",
          "data": {
            "text/plain": [
              "243"
            ]
          },
          "metadata": {},
          "execution_count": 125
        }
      ]
    },
    {
      "cell_type": "code",
      "source": [],
      "metadata": {
        "id": "lHzcpl_HvcDZ"
      },
      "execution_count": null,
      "outputs": []
    }
  ]
}